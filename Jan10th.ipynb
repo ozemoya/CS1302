{
 "cells": [
  {
   "cell_type": "code",
   "execution_count": null,
   "metadata": {},
   "outputs": [],
   "source": [
    "outer_loop_n = 10\n",
    "inner_loop_n = 1\n",
    "\n",
    "for i in range(outer_loop_n):\n",
    "    for j in range(inner_loop_n):\n",
    "        print(i, end='')\n",
    "    inner_loop_n +=1\n",
    "    print()"
   ]
  },
  {
   "cell_type": "code",
   "execution_count": 3,
   "metadata": {},
   "outputs": [
    {
     "name": "stdout",
     "output_type": "stream",
     "text": [
      "False\n"
     ]
    }
   ],
   "source": [
    "list_1 = ['a', 'c', 'y']\n",
    "list_2 = ['x','y']\n",
    "def inboth(h,b):\n",
    "    for i in h:\n",
    "        for r in b:\n",
    "            if i == r:\n",
    "                return True\n",
    "            else:\n",
    "                return False\n",
    "print(inboth(list_1, list_2))\n",
    "        "
   ]
  },
  {
   "cell_type": "code",
   "execution_count": 6,
   "metadata": {},
   "outputs": [
    {
     "name": "stdout",
     "output_type": "stream",
     "text": [
      "100 94 88 82 76 70 64 58 52 46 40 34 28 22 16 10 4 "
     ]
    }
   ],
   "source": [
    "#We want to print 100,94,88,82,76,70,64,58,52,46,40,34,28,22,16,10,4,0\n",
    "for i in range(100,0,-6):\n",
    "    print(i, end=\" \")"
   ]
  },
  {
   "cell_type": "code",
   "execution_count": null,
   "metadata": {},
   "outputs": [],
   "source": [
    "def my_func():\n",
    "    'This is my function'\n",
    "    print('Hello World!') #a print statement inside my_func"
   ]
  },
  {
   "cell_type": "code",
   "execution_count": 7,
   "metadata": {},
   "outputs": [
    {
     "ename": "AttributeError",
     "evalue": "module 'math' has no attribute 's'",
     "output_type": "error",
     "traceback": [
      "\u001b[0;31m---------------------------------------------------------------------------\u001b[0m",
      "\u001b[0;31mAttributeError\u001b[0m                            Traceback (most recent call last)",
      "Cell \u001b[0;32mIn[7], line 3\u001b[0m\n\u001b[1;32m      1\u001b[0m \u001b[38;5;28;01mimport\u001b[39;00m \u001b[38;5;21;01mmath\u001b[39;00m\n\u001b[0;32m----> 3\u001b[0m help(\u001b[43mmath\u001b[49m\u001b[38;5;241;43m.\u001b[39;49m\u001b[43ms\u001b[49m)\n",
      "\u001b[0;31mAttributeError\u001b[0m: module 'math' has no attribute 's'"
     ]
    }
   ],
   "source": [
    "import math\n",
    "\n",
    "help(math.s)"
   ]
  },
  {
   "cell_type": "code",
   "execution_count": 11,
   "metadata": {},
   "outputs": [
    {
     "name": "stdout",
     "output_type": "stream",
     "text": [
      "<__main__.Cents object at 0x10616dc50>\n"
     ]
    }
   ],
   "source": [
    "class Cents:\n",
    "    def __init__(self,value):\n",
    "        self.value = value\n",
    "    def __add__(self, other):\n",
    "        new_val = self.value + other.value\n",
    "        return Cents(new_val)\n",
    "    def __mod__(self,other):\n",
    "        res = self.value % other.value\n",
    "        return Cents(res) \n",
    "cent1 =  Cents(1)\n",
    "cent2 = Cents (2)\n",
    "cent5 = Cents(5)\n",
    "resultingCent = cent5%cent2\n",
    "print(resultingCent.value)"
   ]
  },
  {
   "cell_type": "code",
   "execution_count": null,
   "metadata": {},
   "outputs": [],
   "source": [
    "name = 'abc'\n",
    "s = name\n",
    "name = 'd'\n",
    "s = 'e'"
   ]
  },
  {
   "cell_type": "code",
   "execution_count": null,
   "metadata": {},
   "outputs": [],
   "source": [
    "class NetworkManager:\n",
    "    def __init__ (self):\n",
    "        #perform the required operations to establish a connection\n",
    "     def __del__ (self):\n",
    "        #perform the required operations to close those connections "
   ]
  },
  {
   "cell_type": "code",
   "execution_count": 14,
   "metadata": {},
   "outputs": [
    {
     "name": "stdout",
     "output_type": "stream",
     "text": [
      "A house is created. color = Red\n",
      "A house is destroyed. color = Red\n",
      "A house is created. color = Green\n",
      "A house is destroyed. color = Green\n"
     ]
    },
    {
     "data": {
      "text/plain": [
       "'6'"
      ]
     },
     "execution_count": 14,
     "metadata": {},
     "output_type": "execute_result"
    }
   ],
   "source": [
    "class House:\n",
    "    def __init__(self,color):\n",
    "        self.color = color\n",
    "        print(f'A house is created. color = {self.color}')\n",
    "    def __del__(self):\n",
    "        print(f'A house is destroyed. color = {self.color}')\n",
    "\n",
    "house1 = House('Red')\n",
    "house2 = House('Green')\n",
    "\n",
    "input()\n"
   ]
  },
  {
   "cell_type": "code",
   "execution_count": 19,
   "metadata": {},
   "outputs": [
    {
     "ename": "AttributeError",
     "evalue": "'Apartment' object has no attribute 'color'",
     "output_type": "error",
     "traceback": [
      "\u001b[0;31m---------------------------------------------------------------------------\u001b[0m",
      "\u001b[0;31mAttributeError\u001b[0m                            Traceback (most recent call last)",
      "Cell \u001b[0;32mIn[19], line 9\u001b[0m\n\u001b[1;32m      7\u001b[0m         \u001b[38;5;28mself\u001b[39m\u001b[38;5;241m.\u001b[39mlease_term \u001b[38;5;241m=\u001b[39m lease_term\n\u001b[1;32m      8\u001b[0m         \u001b[38;5;28msuper\u001b[39m()\u001b[38;5;241m.\u001b[39m\u001b[38;5;21m__init__\u001b[39m(\u001b[38;5;28mself\u001b[39m\u001b[38;5;241m.\u001b[39mcolor)\n\u001b[0;32m----> 9\u001b[0m apt1 \u001b[38;5;241m=\u001b[39m \u001b[43mApartment\u001b[49m\u001b[43m(\u001b[49m\u001b[38;5;241;43m12\u001b[39;49m\u001b[43m)\u001b[49m\n\u001b[1;32m     10\u001b[0m \u001b[38;5;28mprint\u001b[39m(apt1)\n",
      "Cell \u001b[0;32mIn[19], line 8\u001b[0m, in \u001b[0;36mApartment.__init__\u001b[0;34m(self, lease_term)\u001b[0m\n\u001b[1;32m      6\u001b[0m \u001b[38;5;28;01mdef\u001b[39;00m \u001b[38;5;21m__init__\u001b[39m (\u001b[38;5;28mself\u001b[39m, lease_term):\n\u001b[1;32m      7\u001b[0m     \u001b[38;5;28mself\u001b[39m\u001b[38;5;241m.\u001b[39mlease_term \u001b[38;5;241m=\u001b[39m lease_term\n\u001b[0;32m----> 8\u001b[0m     \u001b[38;5;28msuper\u001b[39m()\u001b[38;5;241m.\u001b[39m\u001b[38;5;21m__init__\u001b[39m(\u001b[38;5;28;43mself\u001b[39;49m\u001b[38;5;241;43m.\u001b[39;49m\u001b[43mcolor\u001b[49m)\n",
      "\u001b[0;31mAttributeError\u001b[0m: 'Apartment' object has no attribute 'color'"
     ]
    }
   ],
   "source": [
    "class House: #Base class/Parent class/ Superclass\n",
    "    def __init__(self,color):\n",
    "        self.color = color\n",
    "    \n",
    "class Apartment(House): #Derived class/Child class\n",
    "    def __init__ (self, lease_term):\n",
    "        self.lease_term = lease_term\n",
    "        super().__init__(self.color)\n",
    "apt1 = Apartment(12)\n",
    "print(apt1.color)"
   ]
  },
  {
   "cell_type": "code",
   "execution_count": 1,
   "metadata": {},
   "outputs": [
    {
     "name": "stdout",
     "output_type": "stream",
     "text": [
      "A vehicle is created. color = Toyota\n"
     ]
    },
    {
     "ename": "NameError",
     "evalue": "name 'self' is not defined",
     "output_type": "error",
     "traceback": [
      "\u001b[0;31m---------------------------------------------------------------------------\u001b[0m",
      "\u001b[0;31mNameError\u001b[0m                                 Traceback (most recent call last)",
      "Cell \u001b[0;32mIn[1], line 15\u001b[0m\n\u001b[1;32m     12\u001b[0m         \u001b[38;5;28mprint\u001b[39m(\u001b[38;5;28mself\u001b[39m\u001b[38;5;241m.\u001b[39mnum_cylinders)\n\u001b[1;32m     14\u001b[0m vehicle1 \u001b[38;5;241m=\u001b[39m Vehicle(\u001b[38;5;124m'\u001b[39m\u001b[38;5;124mToyota\u001b[39m\u001b[38;5;124m'\u001b[39m)\n\u001b[0;32m---> 15\u001b[0m car1 \u001b[38;5;241m=\u001b[39m \u001b[43mCar\u001b[49m\u001b[43m(\u001b[49m\u001b[38;5;241;43m4\u001b[39;49m\u001b[43m)\u001b[49m\n\u001b[1;32m     16\u001b[0m \u001b[38;5;28mprint\u001b[39m(\u001b[38;5;28mdir\u001b[39m(vehicle1))\n\u001b[1;32m     17\u001b[0m \u001b[38;5;28mprint\u001b[39m(\u001b[38;5;28mdir\u001b[39m(car1))\n",
      "Cell \u001b[0;32mIn[1], line 10\u001b[0m, in \u001b[0;36mCar.__init__\u001b[0;34m(Self, c)\u001b[0m\n\u001b[1;32m      9\u001b[0m \u001b[38;5;28;01mdef\u001b[39;00m \u001b[38;5;21m__init__\u001b[39m (Self,c):\n\u001b[0;32m---> 10\u001b[0m     \u001b[38;5;28;43mself\u001b[39;49m\u001b[38;5;241m.\u001b[39mnum_cylinders \u001b[38;5;241m=\u001b[39m c\n",
      "\u001b[0;31mNameError\u001b[0m: name 'self' is not defined"
     ]
    }
   ],
   "source": [
    "class Vehicle:\n",
    "    def __init__(self, color):\n",
    "        self.color = color\n",
    "        print(f'A vehicle is created. color = {self.color}')\n",
    "    def __del__(self):\n",
    "        print(f'A vehicle is destroyed. color = {self.color}')\n",
    "\n",
    "class Car(Vehicle): #Child/Subclass/Derived\n",
    "    def __init__ (Self,c,m):\n",
    "        self.num_cylinders = c\n",
    "    def print_car_info(self):\n",
    "        print(self.num_cylinders)\n",
    "    \n",
    "vehicle1 = Vehicle('Toyota')\n",
    "car1 = Car(c:4, m:2)\n",
    "print(dir(vehicle1))\n",
    "print(dir(car1))"
   ]
  },
  {
   "cell_type": "code",
   "execution_count": 19,
   "metadata": {},
   "outputs": [
    {
     "name": "stdout",
     "output_type": "stream",
     "text": [
      "321Go\n",
      "4321 Go\n"
     ]
    }
   ],
   "source": [
    "# 3, 2, 1 Go \n",
    "for i in range(3,0,-1):\n",
    "    print(i, end='')\n",
    "print('Go')\n",
    "\n",
    "def count_down(count):\n",
    "    #Base case\n",
    "    if count == 0:\n",
    "        print(\" Go\")\n",
    "    \n",
    "    #Reduction step\n",
    "    if count != 0:\n",
    "        print(count, end= '')\n",
    "        count_down(count-1)\n",
    "count_down(4)"
   ]
  },
  {
   "cell_type": "code",
   "execution_count": 22,
   "metadata": {},
   "outputs": [
    {
     "name": "stdout",
     "output_type": "stream",
     "text": [
      "120\n"
     ]
    }
   ],
   "source": [
    "def main():\n",
    "    def fact(n):\n",
    "        if n == 0:\n",
    "            return 1\n",
    "        else:\n",
    "            return n * fact(n-1)\n",
    "    print(fact(5))\n",
    "\n",
    "main()"
   ]
  },
  {
   "cell_type": "code",
   "execution_count": 28,
   "metadata": {},
   "outputs": [
    {
     "ename": "RecursionError",
     "evalue": "maximum recursion depth exceeded",
     "output_type": "error",
     "traceback": [
      "\u001b[0;31m---------------------------------------------------------------------------\u001b[0m",
      "\u001b[0;31mRecursionError\u001b[0m                            Traceback (most recent call last)",
      "Cell \u001b[0;32mIn[28], line 9\u001b[0m\n\u001b[1;32m      7\u001b[0m         \u001b[38;5;28;01mreturn\u001b[39;00m \u001b[38;5;241m1\u001b[39m\n\u001b[1;32m      8\u001b[0m     \u001b[38;5;28;01mreturn\u001b[39;00m fib(n\u001b[38;5;241m-\u001b[39m\u001b[38;5;241m1\u001b[39m) \u001b[38;5;241m+\u001b[39m fib(n\u001b[38;5;241m-\u001b[39m\u001b[38;5;241m2\u001b[39m)\n\u001b[0;32m----> 9\u001b[0m \u001b[38;5;28mprint\u001b[39m(\u001b[43mfib\u001b[49m\u001b[43m(\u001b[49m\u001b[38;5;241;43m5\u001b[39;49m\u001b[43m)\u001b[49m)\n\u001b[1;32m     11\u001b[0m \u001b[38;5;28mprint\u001b[39m(\u001b[38;5;124m\"\u001b[39m\u001b[38;5;124m---\u001b[39m\u001b[38;5;132;01m%s\u001b[39;00m\u001b[38;5;124m seconds ---\u001b[39m\u001b[38;5;124m\"\u001b[39m \u001b[38;5;241m%\u001b[39m (time\u001b[38;5;241m.\u001b[39mtime() \u001b[38;5;241m-\u001b[39m start_time))\n",
      "Cell \u001b[0;32mIn[28], line 8\u001b[0m, in \u001b[0;36mfib\u001b[0;34m(n)\u001b[0m\n\u001b[1;32m      6\u001b[0m \u001b[38;5;28;01mif\u001b[39;00m n \u001b[38;5;241m==\u001b[39m \u001b[38;5;241m2\u001b[39m:\n\u001b[1;32m      7\u001b[0m     \u001b[38;5;28;01mreturn\u001b[39;00m \u001b[38;5;241m1\u001b[39m\n\u001b[0;32m----> 8\u001b[0m \u001b[38;5;28;01mreturn\u001b[39;00m \u001b[43mfib\u001b[49m\u001b[43m(\u001b[49m\u001b[43mn\u001b[49m\u001b[38;5;241;43m-\u001b[39;49m\u001b[38;5;241;43m1\u001b[39;49m\u001b[43m)\u001b[49m \u001b[38;5;241m+\u001b[39m fib(n\u001b[38;5;241m-\u001b[39m\u001b[38;5;241m2\u001b[39m)\n",
      "Cell \u001b[0;32mIn[28], line 8\u001b[0m, in \u001b[0;36mfib\u001b[0;34m(n)\u001b[0m\n\u001b[1;32m      6\u001b[0m \u001b[38;5;28;01mif\u001b[39;00m n \u001b[38;5;241m==\u001b[39m \u001b[38;5;241m2\u001b[39m:\n\u001b[1;32m      7\u001b[0m     \u001b[38;5;28;01mreturn\u001b[39;00m \u001b[38;5;241m1\u001b[39m\n\u001b[0;32m----> 8\u001b[0m \u001b[38;5;28;01mreturn\u001b[39;00m \u001b[43mfib\u001b[49m\u001b[43m(\u001b[49m\u001b[43mn\u001b[49m\u001b[38;5;241;43m-\u001b[39;49m\u001b[38;5;241;43m1\u001b[39;49m\u001b[43m)\u001b[49m \u001b[38;5;241m+\u001b[39m fib(n\u001b[38;5;241m-\u001b[39m\u001b[38;5;241m2\u001b[39m)\n",
      "    \u001b[0;31m[... skipping similar frames: fib at line 8 (2971 times)]\u001b[0m\n",
      "Cell \u001b[0;32mIn[28], line 8\u001b[0m, in \u001b[0;36mfib\u001b[0;34m(n)\u001b[0m\n\u001b[1;32m      6\u001b[0m \u001b[38;5;28;01mif\u001b[39;00m n \u001b[38;5;241m==\u001b[39m \u001b[38;5;241m2\u001b[39m:\n\u001b[1;32m      7\u001b[0m     \u001b[38;5;28;01mreturn\u001b[39;00m \u001b[38;5;241m1\u001b[39m\n\u001b[0;32m----> 8\u001b[0m \u001b[38;5;28;01mreturn\u001b[39;00m \u001b[43mfib\u001b[49m\u001b[43m(\u001b[49m\u001b[43mn\u001b[49m\u001b[38;5;241;43m-\u001b[39;49m\u001b[38;5;241;43m1\u001b[39;49m\u001b[43m)\u001b[49m \u001b[38;5;241m+\u001b[39m fib(n\u001b[38;5;241m-\u001b[39m\u001b[38;5;241m2\u001b[39m)\n",
      "\u001b[0;31mRecursionError\u001b[0m: maximum recursion depth exceeded"
     ]
    }
   ],
   "source": [
    "import time \n",
    "start_time = time.time()\n",
    "def fib(n):\n",
    "    if n == 0: \n",
    "        return 0\n",
    "    if n == 2:\n",
    "        return 1\n",
    "    return fib(n-1) + fib(n-2)\n",
    "print(fib(5))\n",
    "\n",
    "print(\"---%s seconds ---\" % (time.time() - start_time))"
   ]
  },
  {
   "cell_type": "code",
   "execution_count": null,
   "metadata": {},
   "outputs": [],
   "source": [
    "def gcd(a, b):\n",
    "    if a % b == 0: \n",
    "        return b\n",
    "    return gcd(b, a % b)\n"
   ]
  },
  {
   "cell_type": "code",
   "execution_count": null,
   "metadata": {},
   "outputs": [],
   "source": [
    "res = {}\n",
    "\n",
    "def fib(n):\n",
    "    if n == 1:\n",
    "        return 0\n",
    "    if n == 2:\n",
    "        return 1\n",
    "    if n in res:\n",
    "        return res[n]\n",
    "    res[n] = fib(n-1) + fib(n-2)\n",
    "    return res[n]"
   ]
  },
  {
   "cell_type": "code",
   "execution_count": 6,
   "metadata": {},
   "outputs": [],
   "source": [
    "def gcd(a,b):\n",
    "    if a%b == 0: #Base case \n",
    "        return b\n",
    "    return gcd(b,a%b) #Recursive step aka \n"
   ]
  },
  {
   "cell_type": "code",
   "execution_count": 4,
   "metadata": {},
   "outputs": [
    {
     "name": "stdout",
     "output_type": "stream",
     "text": [
      "True\n",
      "True\n",
      "False\n"
     ]
    }
   ],
   "source": [
    "def isPalindrome(s):\n",
    "    if len(s)<=1:\n",
    "        return True\n",
    "    if s[0] == s[-1]:\n",
    "        return isPalindrome(s[1:-1])\n",
    "    else:\n",
    "        return False\n",
    "    \n",
    "str1 = 'ABCBA'\n",
    "str2 = '3E3'\n",
    "str3 = 'ABCB'\n",
    "\n",
    "print(isPalindrome(str1))\n",
    "print(isPalindrome(str2))\n",
    "print(isPalindrome(str3))"
   ]
  },
  {
   "cell_type": "code",
   "execution_count": null,
   "metadata": {},
   "outputs": [],
   "source": [
    "a = 1 \n",
    "s= 'gfgh' #observations\n",
    "v = 9 \n",
    "g = 9\n",
    "t = 0"
   ]
  },
  {
   "cell_type": "code",
   "execution_count": 7,
   "metadata": {},
   "outputs": [
    {
     "name": "stdout",
     "output_type": "stream",
     "text": [
      "11\n",
      "98\n",
      "122\n"
     ]
    }
   ],
   "source": [
    "import random\n",
    "\n",
    "def get_winner():\n",
    "    a = random.randint(0, 100)\n",
    "    b = random.randint(0, 100)\n",
    "    winner = a+b\n",
    "    return winner\n",
    "\n",
    "for i in range(3):\n",
    "    winner = get_winner()\n",
    "    print(winner)\n"
   ]
  },
  {
   "cell_type": "code",
   "execution_count": 3,
   "metadata": {},
   "outputs": [
    {
     "name": "stdout",
     "output_type": "stream",
     "text": [
      "1\n",
      "1\n"
     ]
    }
   ],
   "source": [
    "def linear_search(arr,key): #\n",
    "    for i in range(len(arr)):\n",
    "        if(arr[i] == key):\n",
    "            return i\n",
    "    return -1\n",
    "\n",
    "arr = [4,7,8,9,56]\n",
    "print(linear_search(arr,7))\n",
    "print(linear_search(arr,7))"
   ]
  },
  {
   "cell_type": "code",
   "execution_count": 9,
   "metadata": {},
   "outputs": [
    {
     "name": "stdout",
     "output_type": "stream",
     "text": [
      "-1\n",
      "-1\n"
     ]
    }
   ],
   "source": [
    "def binarySearch(arr,key):\n",
    "    low = 0 \n",
    "    high = len(arr) - 1\n",
    "    \n",
    "    while low <= high:\n",
    "        mid = (low + high) // 2\n",
    "       #Case-1: \n",
    "        if arr[mid] == key: #search is successful\n",
    "            return mid\n",
    "        #Case-2:\n",
    "        elif arr[mid] < key:\n",
    "            low = mid + 1\n",
    "       #Case-3:\n",
    "        else:\n",
    "            high = mid - 1\n",
    "    return -1        \n",
    "#driver code\n",
    "\n",
    "arr = [1,4,2,4,6,7,1]\n",
    "print(binarySearch(arr,2))"
   ]
  },
  {
   "cell_type": "code",
   "execution_count": null,
   "metadata": {},
   "outputs": [],
   "source": [
    "def rBinarySearch(arr,low,high,key):\n",
    "    #base case\n",
    "    if low > high:\n",
    "        return -1\n",
    "    mid = (low + high) // 2\n",
    "    if arr[mid] == key: \n",
    "        return mid\n",
    "    if key < arr[mid]:\n",
    "        rBinarySearch(arr,low,mid-1,key)\n",
    "    else: \n",
    "        rBinarySearch(arr,mid+1,high,key)"
   ]
  },
  {
   "cell_type": "code",
   "execution_count": 12,
   "metadata": {},
   "outputs": [
    {
     "name": "stdout",
     "output_type": "stream",
     "text": [
      "[7, 3, 11, 23, 12]\n"
     ]
    }
   ],
   "source": [
    "def bubble_sort(arr):\n",
    "    n = len(arr)\n",
    "    for i in range(n-1):\n",
    "        for j in range(n-i-1):\n",
    "            if arr[j] > arr[j+i]:\n",
    "                arr[j], arr[j+i] = arr[j+i], arr[j]\n",
    "    return arr\n",
    "\n",
    "nums = [23,11,3,7,12]\n",
    "sorted_nums = bubble_sort(nums)\n",
    "print(sorted_nums)"
   ]
  },
  {
   "cell_type": "code",
   "execution_count": 12,
   "metadata": {},
   "outputs": [
    {
     "name": "stdout",
     "output_type": "stream",
     "text": [
      "[3, 7, 11, 12, 23]\n"
     ]
    }
   ],
   "source": [
    "def insertion_sort(arr):\n",
    "    for i in range(1, len(arr)):\n",
    "        key = arr[i]\n",
    "        j = i - 1\n",
    "        while j >= 0 and arr[j] > key:\n",
    "            arr[j + 1] = arr[j]\n",
    "            j -= 1\n",
    "        arr[j + 1] = key\n",
    "    return arr\n",
    "\n",
    "nums = [23,11,3,7,12]\n",
    "sorted_nums = insertion_sort(nums)\n",
    "print(sorted_nums)"
   ]
  },
  {
   "cell_type": "code",
   "execution_count": 1,
   "metadata": {},
   "outputs": [
    {
     "name": "stdout",
     "output_type": "stream",
     "text": [
      "23113712"
     ]
    }
   ],
   "source": [
    "from heapq import merge\n",
    "\n",
    "\n",
    "def merge_sort(arr, left, right):\n",
    "    if left < right:\n",
    "        mid = (left + right) // 2\n",
    "        merge_sort(arr, left, mid)\n",
    "        merge_sort(arr, mid + 1, right)\n",
    "        merge(arr, left, mid,right)\n",
    "        \n",
    "nums = [23,11,3,7,12]\n",
    "merge_sort(nums, 0, len(nums) - 1)\n",
    "for num in nums:\n",
    "    print(num, end='') \n",
    "            "
   ]
  },
  {
   "cell_type": "code",
   "execution_count": 3,
   "metadata": {},
   "outputs": [],
   "source": [
    "def merge_sort(arr,start,end):\n",
    "    #Base Case - if there is only one element in the array\n",
    "   \n",
    "    # there are more than 1 number on that segment\n",
    "    if start<end:\n",
    "        mid = (start+end)//2\n",
    "        merge_sort(arr,start,mid)\n",
    "        merge_sort(arr,mid+1,end)\n",
    "        merge(arr,start,mid,end)\n",
    "\n",
    "def merge(arr,start,mid,end):\n",
    "    # creating 2 temporary arrays\n",
    "    temp = []\n",
    "    i = start\n",
    "    j = mid+1\n",
    "    while i<=mid and j<=end:\n",
    "        if arr[i]<arr[j]:\n",
    "            temp.append(arr[i])\n",
    "            i+=1\n",
    "        else:\n",
    "            temp.append(arr[j])\n",
    "            j+=1\n",
    "    while i<=mid:\n",
    "        temp.append(arr[i])\n",
    "        i+=1\n",
    "    while j<=end:\n",
    "        temp.append(arr[j])\n",
    "        j+=1\n",
    "    #copying the temp array to the main array\n",
    "    for i in range(start,end+1):\n",
    "        arr[i] = temp[i-start]\n",
    "    "
   ]
  },
  {
   "cell_type": "code",
   "execution_count": null,
   "metadata": {},
   "outputs": [],
   "source": [
    "def merge(arr, left, mid, right):\n",
    "    merged_size = right - left + 1\n",
    "    merged = [0] * merged_size\n",
    "    i = left\n",
    "    j = mid+1\n",
    "    k = 0\n",
    "    \n",
    "    while i <= mid and j <= right:\n",
    "        if arr[i] < arr[j]:\n",
    "            merged[k] = arr[i]\n",
    "            i += 1\n",
    "        else:\n",
    "            merged[k] = arr[j]\n",
    "            j += 1\n",
    "        k += 1\n",
    "\n",
    "    while i <= mid:\n",
    "        merged[k] = arr[i]\n",
    "        i += 1\n",
    "        k += 1\n",
    "    \n",
    "    k = 0 \n",
    "    while j <= right:\n",
    "        merged[k] = arr[j]\n",
    "        j += 1\n",
    "        k += 1\n",
    "    k = 0 \n",
    "    while k < merged_size:\n",
    "        arr[left+k] = merged[k]\n",
    "        k += 1    \n"
   ]
  }
 ],
 "metadata": {
  "kernelspec": {
   "display_name": "Python 3",
   "language": "python",
   "name": "python3"
  },
  "language_info": {
   "codemirror_mode": {
    "name": "ipython",
    "version": 3
   },
   "file_extension": ".py",
   "mimetype": "text/x-python",
   "name": "python",
   "nbconvert_exporter": "python",
   "pygments_lexer": "ipython3",
   "version": "3.11.5"
  }
 },
 "nbformat": 4,
 "nbformat_minor": 2
}
