{
 "cells": [
  {
   "cell_type": "code",
   "execution_count": null,
   "metadata": {},
   "outputs": [],
   "source": [
    "xs = [\"hello\", \"am\", \"sunday\"]\n",
    "longest = 0\n",
    "for x in xs:\n",
    "    if len(x) > longest:\n",
    "        longest = len(x)\n",
    "print(longest)"
   ]
  },
  {
   "cell_type": "code",
   "execution_count": null,
   "metadata": {},
   "outputs": [],
   "source": [
    "sum = 0 \n",
    "n = len(nums)\n",
    "for i in range(n):\n",
    "    sum += nums[i]\n",
    "avg = sum/n\n",
    "return avg\n",
    "\n",
    "f(n) = 1 + 1 + n + 1 + 1= n+4 = 0(n)"
   ]
  }
 ],
 "metadata": {
  "language_info": {
   "name": "python"
  }
 },
 "nbformat": 4,
 "nbformat_minor": 2
}
