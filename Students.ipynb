{
 "cells": [
  {
   "cell_type": "code",
   "execution_count": 2,
   "metadata": {},
   "outputs": [],
   "source": [
    "class Student:\n",
    "    def __init__(self,n,m):\n",
    "        self.name = n\n",
    "        self.major = m\n",
    "        self.courses = []\n",
    "        \n",
    "    def add_course(self,c):\n",
    "        self.courses.append(c)\n",
    "    \n",
    "    \n",
    "    \n",
    "    def __str__ (self):\n",
    "        return self.name + \";\" + self.major\n",
    "    \n",
    "    "
   ]
  },
  {
   "cell_type": "code",
   "execution_count": 11,
   "metadata": {},
   "outputs": [],
   "source": [
    "class Course:\n",
    "    def __init__(self,n,t):\n",
    "        self.cno = n\n",
    "        self.title = t\n",
    "        self.roster = []\n",
    "        \n",
    "    def add_student(self,s):\n",
    "        self.roster.append(s)\n",
    "    \n",
    "    def __str__ (self):\n",
    "        return self.cno + \";\" + self.title\n"
   ]
  },
  {
   "cell_type": "code",
   "execution_count": 12,
   "metadata": {},
   "outputs": [],
   "source": [
    "s1 = Student(\"John\",\"CSC\")\n",
    "s2 = Student(\"Sally\",\"CSC\")\n",
    "s3 = Student(\"Alice\",\"MATH\")\n",
    "c1 = Course(\"1301\",\"CS 1\")\n",
    "c2 = Course(\"1302\",\"CS 2\")"
   ]
  },
  {
   "cell_type": "code",
   "execution_count": 13,
   "metadata": {},
   "outputs": [],
   "source": [
    "s1.add_course(c1)\n",
    "s1.add_course(c2)\n",
    "s2.add_course(c1)\n",
    "c1.add_student(s1)\n",
    "c1.add_student(s2)\n",
    "c2.add_student(s1)"
   ]
  },
  {
   "cell_type": "code",
   "execution_count": 14,
   "metadata": {},
   "outputs": [
    {
     "name": "stdout",
     "output_type": "stream",
     "text": [
      "John;CSC\n",
      "Sally;CSC\n"
     ]
    }
   ],
   "source": [
    "#print the roster for CSC 1301, the c1 object\n",
    "\n",
    "for s in c1.roster:\n",
    "    print(s)\n",
    "    "
   ]
  },
  {
   "cell_type": "code",
   "execution_count": null,
   "metadata": {},
   "outputs": [],
   "source": [
    "students = [s1,s2,s3]\n",
    "\n",
    "for s in students:\n",
    "    if c1 in s.courses:\n",
    "        print(s)"
   ]
  }
 ],
 "metadata": {
  "kernelspec": {
   "display_name": "Python 3",
   "language": "python",
   "name": "python3"
  },
  "language_info": {
   "codemirror_mode": {
    "name": "ipython",
    "version": 3
   },
   "file_extension": ".py",
   "mimetype": "text/x-python",
   "name": "python",
   "nbconvert_exporter": "python",
   "pygments_lexer": "ipython3",
   "version": "3.11.5"
  }
 },
 "nbformat": 4,
 "nbformat_minor": 2
}
