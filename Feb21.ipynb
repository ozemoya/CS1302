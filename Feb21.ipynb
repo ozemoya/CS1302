{
 "cells": [
  {
   "cell_type": "code",
   "execution_count": null,
   "metadata": {},
   "outputs": [],
   "source": [
    "# factorial = 1\n",
    "# factorial = n * factorial(n-1), n > 0\n",
    "\n",
    "#factorial(n) = 1 * 2 * ... * (n-1) * n"
   ]
  },
  {
   "cell_type": "markdown",
   "metadata": {},
   "source": [
    "factorial(0) = 1\n",
    "factorial(n) = n * factorial(n-1), n > 0 \n",
    "\n",
    "factorial(3) = 3 * factorial(2)\n",
    "             = 3 * 2 * factorial(1)\n",
    "             = 3 * 2 * 1 * factorial(0)\n",
    "             = 3 * 2 * 1  * 1\n",
    "             = 6"
   ]
  },
  {
   "cell_type": "code",
   "execution_count": 3,
   "metadata": {},
   "outputs": [],
   "source": [
    "def factorial(n):\n",
    "    if (n<0):\n",
    "        return None\n",
    "    elif (n == 0):\n",
    "        return 1\n",
    "    return n * factorial(n-1)"
   ]
  },
  {
   "cell_type": "code",
   "execution_count": 6,
   "metadata": {},
   "outputs": [
    {
     "name": "stdout",
     "output_type": "stream",
     "text": [
      "120\n"
     ]
    }
   ],
   "source": [
    "print(factorial(5))"
   ]
  },
  {
   "cell_type": "code",
   "execution_count": null,
   "metadata": {},
   "outputs": [],
   "source": [
    "def sum(nums):\n",
    "    answer = 0 \n",
    "    for num in nums:\n",
    "        answer = answer + num\n",
    "    return answer\n"
   ]
  },
  {
   "cell_type": "code",
   "execution_count": null,
   "metadata": {},
   "outputs": [],
   "source": [
    "sum([1,2,3])"
   ]
  },
  {
   "cell_type": "code",
   "execution_count": null,
   "metadata": {},
   "outputs": [],
   "source": [
    "#my_sum2([]) = 0 \n",
    "#my_sum2(xs) = xs[0] + my_sum2(xs[1:])\n",
    "\n",
    "def my_sum2(nums):\n",
    "    if nums == []:\n",
    "        return 0 \n",
    "# my_sum2(xs) = xs[0] + mv_sum2(xs[1:])\n",
    "    return nums[0] + my_sum2(nums[1:])"
   ]
  },
  {
   "cell_type": "markdown",
   "metadata": {},
   "source": [
    "my_sum2([1,2,3,4]) = 1 + my_sum2([2,3,4])\n",
    "                   = 1 + 2 + my_sum2([3,4])\n",
    "                   = 1 + 2 + 3 + my_sum2([4])\n",
    "                   = 1 + 2 + 3 + 4 + my_sum2([])\n",
    "                   = 1 + 2 + 3 + 4 + 0 \n",
    "                   = 10"
   ]
  },
  {
   "cell_type": "code",
   "execution_count": null,
   "metadata": {},
   "outputs": [],
   "source": [
    "def my_max(nums):\n",
    "    if nums == []:\n",
    "        return None\n",
    "    answer = nums[0]\n",
    "    for num in nums[1:]:\n",
    "        if num > answer:\n",
    "            answer =  num\n",
    "    return answer"
   ]
  },
  {
   "cell_type": "code",
   "execution_count": null,
   "metadata": {},
   "outputs": [],
   "source": [
    "my_max([10,5,16,24,2])"
   ]
  },
  {
   "cell_type": "code",
   "execution_count": 7,
   "metadata": {},
   "outputs": [],
   "source": [
    "def my_max2(nums):\n",
    "     if nums == []:\n",
    "         return None\n",
    "     if len(nums) == 1:\n",
    "         return nums[0]\n",
    "     temp = my_max2(nums[1:])\n",
    "     if nums[0] > temp:\n",
    "         return nums[0]\n",
    "     return temp\n",
    "         "
   ]
  },
  {
   "cell_type": "code",
   "execution_count": null,
   "metadata": {},
   "outputs": [],
   "source": [
    "max(10,20)"
   ]
  },
  {
   "cell_type": "code",
   "execution_count": null,
   "metadata": {},
   "outputs": [],
   "source": [
    "max([10,20])"
   ]
  },
  {
   "cell_type": "markdown",
   "metadata": {},
   "source": [
    "my_max([10,5,16,24,2])\n",
    "= max(10,my_max([5,16,24,2]))\n",
    "= max(10,max(5,my_max[16,24,2]))\n",
    "= max(10,max(5,max(16,my_max[24,2])))\n",
    "= max(10,max(5,max(16,max(24,my_max[2]))))\n",
    "= max(10,max(5,max(16,my_max(24,2))))\n",
    "= max (10, max(5,max(16,24)))\n",
    "= max (10(5,24))\n",
    "= max (10,24)\n",
    "= 24"
   ]
  },
  {
   "cell_type": "code",
   "execution_count": null,
   "metadata": {},
   "outputs": [],
   "source": []
  }
 ],
 "metadata": {
  "kernelspec": {
   "display_name": "Python 3",
   "language": "python",
   "name": "python3"
  },
  "language_info": {
   "codemirror_mode": {
    "name": "ipython",
    "version": 3
   },
   "file_extension": ".py",
   "mimetype": "text/x-python",
   "name": "python",
   "nbconvert_exporter": "python",
   "pygments_lexer": "ipython3",
   "version": "3.11.5"
  }
 },
 "nbformat": 4,
 "nbformat_minor": 2
}
