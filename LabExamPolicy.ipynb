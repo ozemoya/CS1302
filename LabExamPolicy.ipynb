{
 "cells": [
  {
   "cell_type": "code",
   "execution_count": 1,
   "metadata": {},
   "outputs": [
    {
     "name": "stdout",
     "output_type": "stream",
     "text": [
      "This function is in parent class.\n",
      "This function is in child class.\n"
     ]
    }
   ],
   "source": [
    "# Multiple Inheritance\n",
    "class Parent1:\n",
    "    pass\n",
    "\n",
    "class Parent2:\n",
    "    pass\n",
    "\n",
    "class Child(Parent1, Parent2):\n",
    "    pass\n",
    "\n",
    "# Multi-level Inheritance\n",
    "class Base:\n",
    "    pass\n",
    "\n",
    "class Intermediate(Base):\n",
    "    pass\n",
    "\n",
    "class Derived(Intermediate):\n",
    "    pass\n",
    "\n",
    "# Hierarchical Inheritance\n",
    "class Parent:\n",
    "    pass\n",
    "\n",
    "class Child1(Parent):\n",
    "    pass\n",
    "\n",
    "class Child2(Parent):\n",
    "    pass\n",
    "\n",
    "# Hybrid Inheritance (Combination of Multiple and Multi-level)\n",
    "class Grandparent:\n",
    "    pass\n",
    "\n",
    "class Parent1(Grandparent):\n",
    "    pass\n",
    "\n",
    "class Parent2(Grandparent):\n",
    "    pass\n",
    "\n",
    "class Child(Parent1, Parent2):\n",
    "    pass\n",
    "\n"
   ]
  },
  {
   "cell_type": "code",
   "execution_count": 8,
   "metadata": {},
   "outputs": [],
   "source": [
    "#Iterative Methods\n",
    "def binary_search_iterative(data, target):\n",
    "    low = 0\n",
    "    high = len(data) - 1\n",
    "\n",
    "    while low <= high:\n",
    "        mid = (low + high) // 2\n",
    "        if data[mid] == target:\n",
    "            return mid\n",
    "        elif data[mid] < target:\n",
    "            low = mid + 1\n",
    "        else:\n",
    "            high = mid - 1\n",
    "    return -1\n",
    "\n",
    "def binary_search_recursive(data, target, low, high):\n",
    "    if low > high:\n",
    "        return -1\n",
    "    mid = (low + high) // 2\n",
    "    if data[mid] == target:\n",
    "        return mid\n",
    "    elif data[mid] < target:\n",
    "        return binary_search_recursive(data, target, mid + 1, high)\n",
    "    else:\n",
    "        return binary_search_recursive(data, target, low, mid - 1)\n"
   ]
  },
  {
   "cell_type": "code",
   "execution_count": 5,
   "metadata": {},
   "outputs": [],
   "source": [
    "def selection_sort(arr, ascending=True):\n",
    "    for i in range(len(arr)):\n",
    "        # Find the minimum element in remaining unsorted array\n",
    "        idx = i\n",
    "        for j in range(i+1, len(arr)):\n",
    "            if (arr[j] < arr[idx]) == ascending:\n",
    "                idx = j\n",
    "        # Swap the found minimum element with the first element\n",
    "        arr[i], arr[idx] = arr[idx], arr[i]\n",
    "    return arr\n",
    "\n"
   ]
  },
  {
   "cell_type": "code",
   "execution_count": null,
   "metadata": {},
   "outputs": [],
   "source": [
    "def insertion_sort(arr):\n",
    "    for i in range(1, len(arr)):\n",
    "        key = arr[i]\n",
    "        j = i-1\n",
    "        while j >=0 and key < arr[j] :\n",
    "                arr[j + 1] = arr[j]\n",
    "                j -= 1\n",
    "        arr[j + 1] = key\n",
    "    return arr\n"
   ]
  },
  {
   "cell_type": "code",
   "execution_count": null,
   "metadata": {},
   "outputs": [],
   "source": [
    "def insertion_sort(arr, ascending=True):\n",
    "    for i in range(1, len(arr)):\n",
    "        key = arr[i]\n",
    "        j = i-1\n",
    "        # Move elements of arr[0..i-1], that are greater than key,\n",
    "        # to one position ahead of their current position\n",
    "        while j >=0 and (arr[j] > key) == ascending:\n",
    "            arr[j + 1] = arr[j]\n",
    "            j -= 1\n",
    "        arr[j + 1] = key\n",
    "    return arr\n",
    "\n",
    "# Testing the algorithms with a sample list\n",
    "sample_list = [64, 34, 25, 12, 22, 11, 90]\n",
    "\n",
    "# Binary search (iterative)\n",
    "bs_iterative_result = binary_search_iterative(sorted(sample_list), 25)\n",
    "\n",
    "# Binary search (recursive)\n",
    "bs_recursive_result = binary_search_recursive(sorted(sample_list), 25, 0, len(sample_list)-1)\n",
    "\n",
    "# Selection sort\n",
    "selection_sort_result = selection_sort(sample_list.copy())\n",
    "\n",
    "# Insertion sort\n",
    "insertion_sort_result = insertion_sort(sample_list.copy())\n",
    "\n",
    "(bs_iterative_result, bs_recursive_result, selection_sort_result, insertion_sort_result)"
   ]
  }
 ],
 "metadata": {
  "kernelspec": {
   "display_name": "Python 3",
   "language": "python",
   "name": "python3"
  },
  "language_info": {
   "codemirror_mode": {
    "name": "ipython",
    "version": 3
   },
   "file_extension": ".py",
   "mimetype": "text/x-python",
   "name": "python",
   "nbconvert_exporter": "python",
   "pygments_lexer": "ipython3",
   "version": "3.11.5"
  }
 },
 "nbformat": 4,
 "nbformat_minor": 2
}
